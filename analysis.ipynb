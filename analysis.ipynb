{
 "cells": [
  {
   "cell_type": "code",
   "execution_count": null,
   "id": "95a0d72b",
   "metadata": {},
   "outputs": [],
   "source": [
    "import numpy as np\n",
    "import matplotlib.pyplot as plt\n",
    "import scipy.special as sc"
   ]
  },
  {
   "cell_type": "code",
   "execution_count": null,
   "id": "9d0f058e",
   "metadata": {},
   "outputs": [],
   "source": []
  },
  {
   "cell_type": "markdown",
   "id": "e0e96d59",
   "metadata": {},
   "source": [
    "### personal library"
   ]
  },
  {
   "cell_type": "code",
   "execution_count": null,
   "id": "796cb746",
   "metadata": {},
   "outputs": [],
   "source": [
    "class Jackknife:\n",
    "    def __init__( self, len_data, binsize ):\n",
    "        self.binsize = binsize\n",
    "        self.nbins = int(len_data/self.binsize)\n",
    "        self.N = self.binsize * self.nbins\n",
    "        self.jack_avg = []\n",
    "        self.est = 0\n",
    "        self.var_est = 0\n",
    "\n",
    "    def set( self, func, list_of_data ):\n",
    "        for i in range( self.nbins ):\n",
    "            self.jack_avg.append( func( i, self.binsize, list_of_data ) )\n",
    "\n",
    "    def do_it( self ):\n",
    "        for i in range( 0, self.nbins ):\n",
    "            self.est += self.jack_avg[i]\n",
    "        self.est /= self.nbins\n",
    "\n",
    "        for i in range( 0, self.nbins ):\n",
    "            self.var_est += ( self.jack_avg[i] - self.est )**2\n",
    "        self.var_est /= self.nbins\n",
    "        self.var_est *= self.nbins -1\n",
    "\n",
    "    def mean( self ):\n",
    "        return self.est\n",
    "\n",
    "    def var( self ):\n",
    "        return self.var_est\n",
    "\n",
    "    def err( self ):\n",
    "        return np.sqrt(self.var_est)\n",
    "\n",
    "def simple_mean(i, binsize, np_data):\n",
    "    resmpld = np.delete(np_data, np.s_[i*binsize:(i+1)*binsize])\n",
    "    return np.mean(resmpld)\n",
    "\n",
    "def format_print(cen, err):\n",
    "    for i in range(-50, 50):\n",
    "        if 10**(-i+1)>=err>10**(-i):\n",
    "            tmp=err*10**(i+1)\n",
    "            return '{num:.{width}f}'.format(num=cen, width=i+1)+'('+str(round(tmp))+')'\n",
    "\n",
    "def format_print_w_exact(exact, cen, err):\n",
    "    for i in range(-50, 50):\n",
    "        if 10**(-i+1)>=err>10**(-i):\n",
    "            tmp=err*10**(i+1)\n",
    "            return '{num:.{width}f}'.format(num=cen, width=i+1)+'('+str(round(tmp))+')'+' exact:'+'{ex:.{width}f}'.format(ex=exact, width=i+2)+' ['+'{num:.{width}f}'.format(num=abs(exact-cen)/err, width=2)+' sigma]'"
   ]
  },
  {
   "cell_type": "markdown",
   "id": "d9b2f4a3",
   "metadata": {},
   "source": [
    "### related to Fourier coefficients"
   ]
  },
  {
   "cell_type": "code",
   "execution_count": null,
   "id": "d8117279",
   "metadata": {},
   "outputs": [],
   "source": [
    "def Hankel_nu_k(nu,k):\n",
    "    return sc.gamma(nu+k+0.5)/(sc.gamma(k+1)*sc.gamma(nu-k+0.5))"
   ]
  },
  {
   "cell_type": "code",
   "execution_count": null,
   "id": "b28e0421",
   "metadata": {},
   "outputs": [],
   "source": [
    "def A_nu_k(nu,k):\n",
    "    return sc.polygamma(0,nu+k+0.5)-sc.polygamma(0,nu-k+0.5)"
   ]
  },
  {
   "cell_type": "code",
   "execution_count": null,
   "id": "70f50487",
   "metadata": {},
   "outputs": [],
   "source": [
    "def B_nu_k(nu,k):\n",
    "    return sc.polygamma(1,nu+k+0.5)-sc.polygamma(1,nu-k+0.5)"
   ]
  },
  {
   "cell_type": "code",
   "execution_count": null,
   "id": "9f7e2913",
   "metadata": {},
   "outputs": [],
   "source": [
    "def lambdae_asymp(nu,z,kmax=4): # scaled with exp\n",
    "    s=0.0\n",
    "    for k in np.arange(kmax):\n",
    "        s+=Hankel_nu_k(nu,k)*(-0.5/z)**k\n",
    "    \n",
    "    return s/np.sqrt(2.0*np.pi*z)"
   ]
  },
  {
   "cell_type": "code",
   "execution_count": null,
   "id": "5755c7aa",
   "metadata": {},
   "outputs": [],
   "source": [
    "def d_dnu_ive_numeric(nu,z,eps=0.00001):\n",
    "    return (sc.ive(nu+eps,z)-sc.ive(nu-eps,z))/(2.0*eps)"
   ]
  },
  {
   "cell_type": "code",
   "execution_count": null,
   "id": "3c95d389",
   "metadata": {},
   "outputs": [],
   "source": [
    "def d_dnu_lambdae_asymp(nu,z,kmax=4): # scaled with exp\n",
    "    s=0.0\n",
    "    for k in np.arange(kmax):\n",
    "        s+=Hankel_nu_k(nu,k)*A_nu_k(nu,k)*(-0.5/z)**k\n",
    "\n",
    "    return s/np.sqrt(2.0*np.pi*z)"
   ]
  },
  {
   "cell_type": "code",
   "execution_count": null,
   "id": "3efd3ac8",
   "metadata": {},
   "outputs": [],
   "source": [
    "def d2_dnu2_ive_numeric(nu,z,eps=0.0001):\n",
    "    return (sc.ive(nu+eps,z)+sc.ive(nu-eps,z)-2.0*sc.ive(nu,z))/eps**2"
   ]
  },
  {
   "cell_type": "code",
   "execution_count": null,
   "id": "6355606a",
   "metadata": {},
   "outputs": [],
   "source": [
    "def d2_dnu2_lambdae_asymp(nu,z,kmax=4): # scaled with exp\n",
    "    s=0.0\n",
    "    for k in np.arange(kmax):\n",
    "        s+=Hankel_nu_k(nu,k)*(A_nu_k(nu,k)**2+B_nu_k(nu,k))*(-0.5/z)**k\n",
    " \n",
    "    return s/np.sqrt(2.0*np.pi*z)"
   ]
  },
  {
   "cell_type": "code",
   "execution_count": null,
   "id": "1c10f113",
   "metadata": {},
   "outputs": [],
   "source": []
  },
  {
   "cell_type": "markdown",
   "id": "561b96a2",
   "metadata": {},
   "source": [
    "### exact solutions"
   ]
  },
  {
   "cell_type": "code",
   "execution_count": null,
   "id": "6663f2df",
   "metadata": {},
   "outputs": [],
   "source": [
    "def Z(beta_,theta_,vlat_,nmax_=3):\n",
    "    res = 0.0\n",
    "\n",
    "#     for n in range(-nmax_,nmax_+1):\n",
    "#         res += sc.iv(n,beta_)**vlat_\n",
    "    for n in range(-nmax_,nmax_+1):\n",
    "        res += (np.exp(beta_)*lambdae_asymp(n-theta_/(2.0*np.pi),beta_))**vlat_\n",
    "\n",
    "    return res"
   ]
  },
  {
   "cell_type": "code",
   "execution_count": null,
   "id": "daea5d35",
   "metadata": {},
   "outputs": [],
   "source": [
    "def avg_plaq(beta_,vlat_,nmax_=3):\n",
    "    denom=0.0\n",
    "    numer=0.0\n",
    "\n",
    "    for n in range(-nmax_,nmax_+1):\n",
    "        denom += sc.ive(n,beta_)**vlat_\n",
    "        numer += (sc.ive(n+1,beta_)+sc.ive(n-1,beta_))*sc.ive(n,beta_)**(vlat_-1)\n",
    "\n",
    "    return 0.5*numer/denom"
   ]
  },
  {
   "cell_type": "code",
   "execution_count": null,
   "id": "a0f44cfd",
   "metadata": {},
   "outputs": [],
   "source": [
    "def avg_plaq_sq(beta_,vlat_,nmax_=3):\n",
    "    denom=0.0\n",
    "    numer=0.0\n",
    "\n",
    "    for n in range(-nmax_,nmax_+1):\n",
    "        denom += sc.ive(n,beta_)**vlat_\n",
    "        numer += (sc.ive(n+2,beta_)+2.0*sc.ive(n,beta_)+sc.ive(n-2,beta_))*sc.ive(n,beta_)**(vlat_-1)\n",
    "\n",
    "    return 0.25*numer/denom"
   ]
  },
  {
   "cell_type": "code",
   "execution_count": null,
   "id": "f868fc20",
   "metadata": {},
   "outputs": [],
   "source": [
    "def avg_plaq_twopt(beta_,vlat_,nmax_=3):\n",
    "    denom=0.0\n",
    "    numer=0.0\n",
    "\n",
    "    for n in range(-nmax_,nmax_+1):\n",
    "        denom += sc.ive(n,beta_)**vlat_\n",
    "        numer += (sc.ive(n+1,beta_)+sc.ive(n-1,beta_))**2 * sc.ive(n,beta_)**(vlat_-2)\n",
    "\n",
    "    return 0.25*numer/denom"
   ]
  },
  {
   "cell_type": "code",
   "execution_count": null,
   "id": "28ce2d8a",
   "metadata": {},
   "outputs": [],
   "source": [
    "# def Q(beta_,vlat_,nmax_=3):\n",
    "#     denom=0.0\n",
    "#     numer=0.0\n",
    "\n",
    "#     for n in range(-nmax_,nmax_+1):\n",
    "#         denom += sc.ive(n,beta_)**vlat_\n",
    "#         numer += d_dnu_lambda_asymp(n,beta_)*sc.ive(n,beta_)**(vlat_-1)\n",
    "\n",
    "#     return vlat*numer/denom"
   ]
  },
  {
   "cell_type": "code",
   "execution_count": null,
   "id": "ddbfef14",
   "metadata": {},
   "outputs": [],
   "source": [
    "def Qsq(beta_,vlat_,nmax_=3):\n",
    "    denom=0.0\n",
    "    numer=0.0\n",
    "\n",
    "    for n in range(-nmax_,nmax_+1):\n",
    "        denom += sc.ive(n,beta_)**vlat_\n",
    "        numer += d2_dnu2_lambdae_asymp(n,beta_)*sc.ive(n,beta_)**(vlat_-1)\n",
    "\n",
    "    numer *= vlat_\n",
    "    \n",
    "    return -numer/denom/(2.0*np.pi)**2"
   ]
  },
  {
   "cell_type": "code",
   "execution_count": null,
   "id": "0351e062",
   "metadata": {},
   "outputs": [],
   "source": []
  },
  {
   "cell_type": "markdown",
   "id": "c96dac18",
   "metadata": {},
   "source": [
    "### acceptance"
   ]
  },
  {
   "cell_type": "code",
   "execution_count": null,
   "id": "db3c207a",
   "metadata": {},
   "outputs": [],
   "source": [
    "acc=np.loadtxt(\"./results/accept_reject.dat\")\n",
    "np.mean(acc)"
   ]
  },
  {
   "cell_type": "code",
   "execution_count": null,
   "id": "d2c6a31a",
   "metadata": {},
   "outputs": [],
   "source": [
    "dh=np.loadtxt(\"./results/dH.dat\")"
   ]
  },
  {
   "cell_type": "code",
   "execution_count": null,
   "id": "19eb7805",
   "metadata": {},
   "outputs": [],
   "source": [
    "plt.plot(dh)\n",
    "plt.xlabel(\"MCS\")\n",
    "plt.ylabel(\"$dH$\")\n",
    "plt.show()"
   ]
  },
  {
   "cell_type": "code",
   "execution_count": null,
   "id": "7d6471a6",
   "metadata": {},
   "outputs": [],
   "source": []
  },
  {
   "cell_type": "markdown",
   "id": "a3ca5050",
   "metadata": {},
   "source": [
    "# numerical parameters"
   ]
  },
  {
   "cell_type": "code",
   "execution_count": null,
   "id": "8efd4f57",
   "metadata": {},
   "outputs": [],
   "source": [
    "a=1.0/1.8\n",
    "beta=1/a**2\n",
    "print(\"beta=\"+str(beta))\n",
    "lx=16\n",
    "ly=16\n",
    "vlat=lx*ly"
   ]
  },
  {
   "cell_type": "code",
   "execution_count": null,
   "id": "77c9fc45",
   "metadata": {},
   "outputs": [],
   "source": [
    "nskip=200\n",
    "nconf=800"
   ]
  },
  {
   "cell_type": "code",
   "execution_count": null,
   "id": "3e46544d",
   "metadata": {},
   "outputs": [],
   "source": []
  },
  {
   "cell_type": "markdown",
   "id": "0411f036",
   "metadata": {},
   "source": [
    "### average plaquette"
   ]
  },
  {
   "cell_type": "code",
   "execution_count": null,
   "id": "a4ac60a7",
   "metadata": {},
   "outputs": [],
   "source": [
    "w0_=[]\n",
    "\n",
    "for n in range(nskip,nconf):\n",
    "    dat=np.loadtxt(\"./results/w0/\"+str(n)+\".dat\")\n",
    "    w0_.append(dat)\n",
    "    \n",
    "w0=np.array(w0_)"
   ]
  },
  {
   "cell_type": "code",
   "execution_count": null,
   "id": "00f8cae6",
   "metadata": {},
   "outputs": [],
   "source": [
    "plt.plot(w0)\n",
    "plt.xlabel(\"MCS\")\n",
    "plt.ylabel(\"$\\\\cos \\\\kappa_x$\")\n",
    "plt.show()"
   ]
  },
  {
   "cell_type": "code",
   "execution_count": null,
   "id": "6e4c43ff",
   "metadata": {},
   "outputs": [],
   "source": [
    "binsize=4"
   ]
  },
  {
   "cell_type": "code",
   "execution_count": null,
   "id": "0f4c4c38",
   "metadata": {},
   "outputs": [],
   "source": [
    "jk = Jackknife(nconf-nskip, binsize)\n",
    "jk.set(simple_mean, w0)\n",
    "jk.do_it()\n",
    "mu_w0=jk.mean()\n",
    "sig_w0=jk.err()\n",
    "print(format_print_w_exact(avg_plaq(beta,vlat), mu_w0, sig_w0))"
   ]
  },
  {
   "cell_type": "markdown",
   "id": "c818e9ab",
   "metadata": {},
   "source": [
    "### correlator"
   ]
  },
  {
   "cell_type": "code",
   "execution_count": null,
   "id": "ee71a22c",
   "metadata": {},
   "outputs": [],
   "source": [
    "corr_=[]\n",
    "\n",
    "for n in range(nskip,nconf):\n",
    "    dat=np.loadtxt(\"./results/corr/\"+str(n)+\".dat\")\n",
    "    corr_.append(dat)\n",
    "    \n",
    "corr=np.array(corr_)"
   ]
  },
  {
   "cell_type": "code",
   "execution_count": null,
   "id": "09451dce",
   "metadata": {},
   "outputs": [],
   "source": [
    "plt.plot(corr.T[0])\n",
    "plt.xlabel(\"MCS\")\n",
    "plt.ylabel(\"$\\\\cos^2 \\\\kappa_x$\")\n",
    "plt.show()"
   ]
  },
  {
   "cell_type": "code",
   "execution_count": null,
   "id": "a73b2897",
   "metadata": {},
   "outputs": [],
   "source": [
    "binsize=4"
   ]
  },
  {
   "cell_type": "code",
   "execution_count": null,
   "id": "2a0bfb27",
   "metadata": {},
   "outputs": [],
   "source": [
    "for dx in range(int(lx/2)):\n",
    "    jk = Jackknife(nconf-nskip, binsize)\n",
    "    jk.set(simple_mean, corr.T[dx])\n",
    "    jk.do_it()\n",
    "    mu=jk.mean()\n",
    "    sig=jk.err()\n",
    "    if dx==0:\n",
    "        print(\"dx=\"+str(dx)+\": \"+format_print_w_exact(avg_plaq_sq(beta,vlat),mu, sig))\n",
    "    else:\n",
    "        print(\"dx=\"+str(dx)+\": \"+format_print_w_exact(avg_plaq_twopt(beta,vlat),mu, sig))"
   ]
  },
  {
   "cell_type": "code",
   "execution_count": null,
   "id": "b16c3c0a",
   "metadata": {},
   "outputs": [],
   "source": []
  },
  {
   "cell_type": "markdown",
   "id": "5c836840",
   "metadata": {},
   "source": [
    "### topological charge"
   ]
  },
  {
   "cell_type": "code",
   "execution_count": null,
   "id": "eb5e2380",
   "metadata": {},
   "outputs": [],
   "source": [
    "Ql_=[]\n",
    "\n",
    "for n in range(nskip,nconf):\n",
    "    dat=np.loadtxt(\"./results/top_ch/\"+str(n)+\".dat\")\n",
    "    Ql_.append(dat)\n",
    "    \n",
    "Ql=np.array(Ql_)"
   ]
  },
  {
   "cell_type": "code",
   "execution_count": null,
   "id": "136a979d",
   "metadata": {},
   "outputs": [],
   "source": [
    "plt.hist(Ql,bins=np.arange(-5.1,5,0.2))\n",
    "plt.xlabel(\"Q\")\n",
    "plt.show()"
   ]
  },
  {
   "cell_type": "code",
   "execution_count": null,
   "id": "47148a53",
   "metadata": {},
   "outputs": [],
   "source": [
    "plt.plot(Ql)\n",
    "plt.xlabel(\"MCS\")\n",
    "plt.ylabel(\"$Q$\")\n",
    "plt.show()"
   ]
  },
  {
   "cell_type": "code",
   "execution_count": null,
   "id": "08e33524",
   "metadata": {},
   "outputs": [],
   "source": [
    "binsize=40"
   ]
  },
  {
   "cell_type": "code",
   "execution_count": null,
   "id": "2783d217",
   "metadata": {},
   "outputs": [],
   "source": [
    "jk = Jackknife(nconf-nskip, binsize)\n",
    "jk.set(simple_mean, Ql)\n",
    "jk.do_it()\n",
    "Qmu=jk.mean()\n",
    "Qsig=jk.err()\n",
    "print(format_print_w_exact(0.0, Qmu, Qsig))"
   ]
  },
  {
   "cell_type": "code",
   "execution_count": null,
   "id": "02fea95b",
   "metadata": {},
   "outputs": [],
   "source": []
  },
  {
   "cell_type": "markdown",
   "id": "482dee06",
   "metadata": {},
   "source": [
    "### $Q^2$"
   ]
  },
  {
   "cell_type": "code",
   "execution_count": null,
   "id": "3bdde639",
   "metadata": {},
   "outputs": [],
   "source": [
    "Qlsq=Ql**2"
   ]
  },
  {
   "cell_type": "code",
   "execution_count": null,
   "id": "1b55f05b",
   "metadata": {
    "scrolled": true
   },
   "outputs": [],
   "source": [
    "plt.plot(Qlsq)\n",
    "plt.xlabel(\"MCS\")\n",
    "plt.ylabel(\"$Q^2$\")\n",
    "plt.show()"
   ]
  },
  {
   "cell_type": "code",
   "execution_count": null,
   "id": "447c6d18",
   "metadata": {},
   "outputs": [],
   "source": [
    "binsize=20"
   ]
  },
  {
   "cell_type": "code",
   "execution_count": null,
   "id": "985431e7",
   "metadata": {},
   "outputs": [],
   "source": [
    "jk = Jackknife(nconf-nskip, binsize)\n",
    "jk.set(simple_mean, Qlsq)\n",
    "jk.do_it()\n",
    "Qmu=jk.mean()\n",
    "Qsig=jk.err()\n",
    "print(format_print_w_exact(Qsq(beta,vlat), Qmu, Qsig))"
   ]
  },
  {
   "cell_type": "code",
   "execution_count": null,
   "id": "816bc158",
   "metadata": {},
   "outputs": [],
   "source": []
  },
  {
   "cell_type": "code",
   "execution_count": null,
   "id": "e6434f73",
   "metadata": {},
   "outputs": [],
   "source": []
  },
  {
   "cell_type": "code",
   "execution_count": null,
   "id": "45d70d6c",
   "metadata": {},
   "outputs": [],
   "source": []
  }
 ],
 "metadata": {
  "kernelspec": {
   "display_name": "Python 3 (ipykernel)",
   "language": "python",
   "name": "python3"
  },
  "language_info": {
   "codemirror_mode": {
    "name": "ipython",
    "version": 3
   },
   "file_extension": ".py",
   "mimetype": "text/x-python",
   "name": "python",
   "nbconvert_exporter": "python",
   "pygments_lexer": "ipython3",
   "version": "3.10.6"
  }
 },
 "nbformat": 4,
 "nbformat_minor": 5
}
